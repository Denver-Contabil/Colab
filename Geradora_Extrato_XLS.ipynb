{
  "nbformat": 4,
  "nbformat_minor": 0,
  "metadata": {
    "colab": {
      "provenance": [],
      "include_colab_link": true
    },
    "kernelspec": {
      "name": "python3",
      "display_name": "Python 3"
    },
    "language_info": {
      "name": "python"
    }
  },
  "cells": [
    {
      "cell_type": "markdown",
      "metadata": {
        "id": "view-in-github",
        "colab_type": "text"
      },
      "source": [
        "<a href=\"https://colab.research.google.com/github/Denver-Contabil/Colab/blob/master/Geradora_Extrato_XLS.ipynb\" target=\"_parent\"><img src=\"https://colab.research.google.com/assets/colab-badge.svg\" alt=\"Open In Colab\"/></a>"
      ]
    },
    {
      "cell_type": "markdown",
      "source": [
        "- Bibliotecas utilizadas"
      ],
      "metadata": {
        "id": "g2DCLQdv49Cu"
      }
    },
    {
      "cell_type": "code",
      "execution_count": null,
      "metadata": {
        "id": "c66ARaoVG0Kp"
      },
      "outputs": [],
      "source": [
        "!pip install xlwt\n",
        "!pip install tabula-py\n",
        "import pandas as pd\n",
        "import tabula as tb\n",
        "import re\n",
        "import glob\n",
        "import os\n",
        "import xlwt"
      ]
    },
    {
      "cell_type": "markdown",
      "source": [
        "- Conversao dos PDF em CSV"
      ],
      "metadata": {
        "id": "o7Iy7mlJ43cM"
      }
    },
    {
      "cell_type": "code",
      "source": [
        "files = glob.glob('/content/drive/Shareddrives/Controladoria de Fundos/ID CTVM/Fundos/z. Extratos/Banco ID/*.pdf')\n",
        "\n",
        "java_options = \"-Dfile.encoding=UTF-8\"\n",
        "\n",
        "# Percorre cada arquivo PDF\n",
        "for file in files:\n",
        "    csv_filename = file.replace(\".pdf\", \".csv\")\n",
        "\n",
        "    tb.convert_into(file, csv_filename, output_format=\"csv\", pages=\"all\", java_options=java_options)"
      ],
      "metadata": {
        "id": "Y7WnPRDE2vNK"
      },
      "execution_count": null,
      "outputs": []
    },
    {
      "cell_type": "markdown",
      "source": [
        "Leitura dos CSV e tratamento dos dados para exportacao em XLS"
      ],
      "metadata": {
        "id": "DtC1VtIt45Yc"
      }
    },
    {
      "cell_type": "code",
      "source": [
        "csv_files = glob.glob('/content/drive/Shareddrives/Controladoria de Fundos/ID CTVM/Fundos/z. Extratos/Banco ID/*.csv')\n",
        "\n",
        "for index in range(len(csv_files)):\n",
        "  pdf = pd.read_csv(csv_files[index], decimal = ',')\n",
        "\n",
        "  conta = pdf.iloc[1][1]\n",
        "\n",
        "  conta = re.findall(r'\\d+', conta)\n",
        "  n_conta = f'{conta[1]}-{conta[2]}'\n",
        "  pdf.iloc[:, 2] = pdf.iloc[:, 2].fillna(' ')\n",
        "\n",
        "  pdf.iloc[:, 1] = pdf.iloc[:, 1] + ' ' + pdf.iloc[:, 2]\n",
        "\n",
        "  pdf = pdf.drop(pdf.columns[2], axis=1)\n",
        "  pdf = pdf.drop(pdf.columns[4], axis=1)\n",
        "\n",
        "  pdf = pdf.drop(range(0, 8))\n",
        "  pdf = pdf.dropna(axis = 0)\n",
        "\n",
        "  def formatar_valor(valor):\n",
        "      valor = str(valor)\n",
        "      valor = valor.replace('(', '').replace(')', '').replace(' ', '').replace('+', '')\n",
        "      if valor.endswith('-'):\n",
        "          return '-' + valor[:-1]\n",
        "      else:\n",
        "          return valor\n",
        "\n",
        "  pdf.iloc[:, 2] = pdf.iloc[:, 2].apply(formatar_valor)\n",
        "\n",
        "  pdf['Numero Conta'] = n_conta\n",
        "\n",
        "  pdf = pdf.rename(columns = {pdf.columns[0]: 'Data', pdf.columns[1]: 'Histórico', pdf.columns[2]: 'Valor', pdf.columns[3]: 'Saldo'})\n",
        "\n",
        "  pdf_new = pdf[['Data', 'Numero Conta', 'Histórico', 'Valor', 'Saldo']]\n",
        "\n",
        "  csv_files[index] = csv_files[index].replace('.csv', '')\n",
        "  pdf_new.to_excel(f'{csv_files[index]}.xls', index = False)\n",
        "\n",
        "  if os.path.exists(csv_files[index]):\n",
        "    os.remove(csv_files[index]) # Esta linha esta em teste"
      ],
      "metadata": {
        "colab": {
          "base_uri": "https://localhost:8080/"
        },
        "id": "hFKVGu7v0S5Z",
        "outputId": "8a5f7f04-b332-4caa-ad6c-91a64008244a"
      },
      "execution_count": null,
      "outputs": [
        {
          "output_type": "stream",
          "name": "stderr",
          "text": [
            "<ipython-input-119-8fa5f3b60d4f>:37: FutureWarning: As the xlwt package is no longer maintained, the xlwt engine will be removed in a future version of pandas. This is the only engine in pandas that supports writing in the xls format. Install openpyxl and write to an xlsx file instead. You can set the option io.excel.xls.writer to 'xlwt' to silence this warning. While this option is deprecated and will also raise a warning, it can be globally set and the warning suppressed.\n",
            "  pdf_new.to_excel(f'{csv_files[index]}_.xls', index = False)\n",
            "<ipython-input-119-8fa5f3b60d4f>:37: FutureWarning: As the xlwt package is no longer maintained, the xlwt engine will be removed in a future version of pandas. This is the only engine in pandas that supports writing in the xls format. Install openpyxl and write to an xlsx file instead. You can set the option io.excel.xls.writer to 'xlwt' to silence this warning. While this option is deprecated and will also raise a warning, it can be globally set and the warning suppressed.\n",
            "  pdf_new.to_excel(f'{csv_files[index]}_.xls', index = False)\n"
          ]
        }
      ]
    },
    {
      "cell_type": "code",
      "source": [],
      "metadata": {
        "id": "ixes1CTL0DKF"
      },
      "execution_count": null,
      "outputs": []
    }
  ]
}