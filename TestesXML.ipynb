{
  "nbformat": 4,
  "nbformat_minor": 0,
  "metadata": {
    "colab": {
      "provenance": [],
      "authorship_tag": "ABX9TyOlYeMsMtO/+VYd+Hd6VgOS",
      "include_colab_link": true
    },
    "kernelspec": {
      "name": "python3",
      "display_name": "Python 3"
    },
    "language_info": {
      "name": "python"
    }
  },
  "cells": [
    {
      "cell_type": "markdown",
      "metadata": {
        "id": "view-in-github",
        "colab_type": "text"
      },
      "source": [
        "<a href=\"https://colab.research.google.com/github/Denver-Contabil/Colab/blob/master/TestesXML.ipynb\" target=\"_parent\"><img src=\"https://colab.research.google.com/assets/colab-badge.svg\" alt=\"Open In Colab\"/></a>"
      ]
    },
    {
      "cell_type": "code",
      "execution_count": null,
      "metadata": {
        "id": "HS1gzn5a14Wj",
        "colab": {
          "base_uri": "https://localhost:8080/"
        },
        "outputId": "8f1dbd88-7863-4ca8-fefe-e08768190e61"
      },
      "outputs": [
        {
          "output_type": "stream",
          "name": "stdout",
          "text": [
            "<?xml version=\"1.1\" encoding=\"UTF-8\"?>\n",
            "<!-- Total Valor Presente: 100.50 -->\n",
            "<!-- Total Valor PCLD: 50.50 -->\n",
            "<Doc3040 CNPJ=\"xxx\" DtBase=\"2023-04\" EmailResp=\"ednei@idsf.com.br\">\n",
            "  <Cli Autorzc=\"N\" Cd=\"123455\">\n",
            "    <Op CEP=\"00000000\" CaracEspecial=\"35\" ClassOp=\"B\">\n",
            "      <Venc V120=\"100.00\" V130=\"2550.00\"/>\n",
            "      <Inf Cd=\"44860.82\" deletado/>\n",
            "    </Op>\n",
            "  </Cli>\n",
            "  <Agreg Autorzc=\"N\" Cd=\"123455\">teste</Agreg>\n",
            "</Doc3040>\n",
            "\n"
          ]
        }
      ],
      "source": [
        "import xml.etree.ElementTree as ET\n",
        "import xml.dom.minidom as minidom\n",
        "\n",
        "CNPJ='ccc'\n",
        "EmailResp='ednei@idsf.com.br'\n",
        "\n",
        "\n",
        "xml_doc = ET.Element('Doc3040', CNPJ=CNPJ, DtBase='2023-04', EmailResp=EmailResp)\n",
        "\n",
        "Autorzc='N'\n",
        "Cd = '123455'\n",
        "teste = x='1234'\n",
        "\n",
        "Cliente = ET.SubElement(xml_doc, 'Cli', Autorzc=Autorzc, Cd=Cd)\n",
        "Op = ET.SubElement(Cliente, 'Op', CEP='00000000', CaracEspecial='35', ClassOp='B')\n",
        "\n",
        "Venc = ET.SubElement(Op, 'Venc')\n",
        "#For each venc in vencimentos\n",
        "Venc.set('V120', '100.00')\n",
        "Venc.set('V130', '2550.00')\n",
        "\n",
        "ET.SubElement(Op, 'Inf', Cd='44860.82', teste='0')\n",
        "\n",
        "\n",
        "Agreg = ET.SubElement(xml_doc, 'Agreg', Autorzc=Autorzc, Cd=Cd).text = 'teste'\n",
        "\n",
        "tree = ET.ElementTree(xml_doc)\n",
        "\n",
        "xml_declaration = '<?xml version=\"1.1\" encoding=\"UTF-8\"?>'\n",
        "Comentario = \"\\n<!-- Total Valor Presente: 100.50 -->\"\n",
        "Comentario += \"\\n<!-- Total Valor PCLD: 50.50 -->\"\n",
        "xml_declaration += Comentario\n",
        "\n",
        "xml_string = ET.tostring(xml_doc, encoding='utf-8', xml_declaration=xml_declaration).decode('utf-8')\n",
        "\n",
        "dom = minidom.parseString(xml_string)\n",
        "formatted_xml = dom.toprettyxml(indent=\"  \")\n",
        "\n",
        "formatted_xml = formatted_xml.replace('<?xml version=\"1.0\" ?>', xml_declaration, 1)\n",
        "formatted_xml = formatted_xml.replace('teste=\"0\"', 'deletado', 1)\n",
        "\n",
        "\n",
        "formatted_xml =   formatted_xml\n",
        "\n",
        "print(formatted_xml)"
      ]
    },
    {
      "cell_type": "code",
      "source": [],
      "metadata": {
        "id": "EDodffPFDfH9"
      },
      "execution_count": null,
      "outputs": []
    }
  ]
}