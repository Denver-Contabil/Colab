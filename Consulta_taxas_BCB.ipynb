{
  "nbformat": 4,
  "nbformat_minor": 0,
  "metadata": {
    "colab": {
      "provenance": [],
      "authorship_tag": "ABX9TyPWxwco0XPNCS5uzrjBfqkO",
      "include_colab_link": true
    },
    "kernelspec": {
      "name": "python3",
      "display_name": "Python 3"
    },
    "language_info": {
      "name": "python"
    }
  },
  "cells": [
    {
      "cell_type": "markdown",
      "metadata": {
        "id": "view-in-github",
        "colab_type": "text"
      },
      "source": [
        "<a href=\"https://colab.research.google.com/github/Denver-Contabil/Colab/blob/master/Consulta_taxas_BCB.ipynb\" target=\"_parent\"><img src=\"https://colab.research.google.com/assets/colab-badge.svg\" alt=\"Open In Colab\"/></a>"
      ]
    },
    {
      "cell_type": "code",
      "execution_count": null,
      "metadata": {
        "id": "LHUl3CmRYU2O"
      },
      "outputs": [],
      "source": [
        "!pip install python-bcb\n",
        "from bcb import sgs"
      ]
    },
    {
      "cell_type": "code",
      "source": [
        "taxa = sgs.get({'CDI':12}, start = '2000-01-01')\n",
        "taxa"
      ],
      "metadata": {
        "id": "mSKg9rhtYZaq"
      },
      "execution_count": null,
      "outputs": []
    }
  ]
}